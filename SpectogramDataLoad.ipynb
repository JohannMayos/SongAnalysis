{
 "cells": [
  {
   "cell_type": "code",
   "execution_count": 1,
   "metadata": {},
   "outputs": [
    {
     "name": "stderr",
     "output_type": "stream",
     "text": [
      "2024-06-13 01:28:00.232818: I external/local_tsl/tsl/cuda/cudart_stub.cc:32] Could not find cuda drivers on your machine, GPU will not be used.\n",
      "2024-06-13 01:28:00.237286: I external/local_tsl/tsl/cuda/cudart_stub.cc:32] Could not find cuda drivers on your machine, GPU will not be used.\n",
      "2024-06-13 01:28:00.299617: I tensorflow/core/platform/cpu_feature_guard.cc:210] This TensorFlow binary is optimized to use available CPU instructions in performance-critical operations.\n",
      "To enable the following instructions: AVX2 FMA, in other operations, rebuild TensorFlow with the appropriate compiler flags.\n",
      "2024-06-13 01:28:01.269438: W tensorflow/compiler/tf2tensorrt/utils/py_utils.cc:38] TF-TRT Warning: Could not find TensorRT\n"
     ]
    }
   ],
   "source": [
    "# Import Libraries\n",
    "\n",
    "import os, sys, cv2\n",
    "import seaborn as sn\n",
    "import numpy as np\n",
    "import pandas as pd\n",
    "from sklearn.model_selection import train_test_split\n",
    "from sklearn.metrics import confusion_matrix\n",
    "import keras\n",
    "from keras.models import Sequential,Model, load_model\n",
    "from keras.layers import Dense, Dropout, Flatten, LSTM\n",
    "from keras.layers import Conv2D, MaxPooling2D, Conv1D, MaxPooling1D, MaxPool1D, GaussianNoise, GlobalMaxPooling1D\n",
    "from keras.layers import BatchNormalization\n",
    "from keras.layers import Input\n",
    "from keras.callbacks import ModelCheckpoint\n",
    "from keras.layers import LeakyReLU\n",
    "import tensorflow\n",
    "import matplotlib.pyplot as plt\n",
    "from sklearn.model_selection import KFold"
   ]
  },
  {
   "cell_type": "code",
   "execution_count": 2,
   "metadata": {},
   "outputs": [],
   "source": [
    "# Diretório contendo os espectrogramas em formato PNG\n",
    "diretorio_espectrogramas = '/home/missantroop/SongAnalysis/spectrograms'\n",
    "\n",
    "# Lista para armazenar os espectrogramas convertidos em matrizes numpy\n",
    "espectrogramas_np = []\n",
    "\n",
    "# Itera sobre os arquivos no diretório\n",
    "for arquivo in os.listdir(diretorio_espectrogramas):\n",
    "    if arquivo.endswith('.png'):\n",
    "        # Carrega o espectrograma usando o OpenCV\n",
    "        espectrograma = cv2.imread(os.path.join(diretorio_espectrogramas, arquivo), cv2.IMREAD_GRAYSCALE)\n",
    "        # Adiciona o espectrograma convertido para numpy na lista\n",
    "        espectrogramas_np.append(espectrograma)\n",
    "\n",
    "# Suponha que você tenha esses arrays de dados\n",
    "spec = np.array([1, 2, 3, 4, 5])\n",
    "mfcc = np.array([6, 7, 8, 9, 10])\n",
    "mel = np.array([11, 12, 13, 14, 15])\n",
    "chroma = np.array([16, 17, 18, 19, 20])\n",
    "target = np.array([21, 22, 23, 24, 25])\n",
    "\n",
    "# Salve todos os conjuntos de dados em um único arquivo .npz\n",
    "np.savez('espectrogramas.npz', spec=spec, mfcc=mfcc, mel=mel, chroma=chroma, target=target)\n"
   ]
  },
  {
   "cell_type": "code",
   "execution_count": 3,
   "metadata": {},
   "outputs": [],
   "source": [
    "# Load the .npz file of features\n",
    "f = np.load(os.getcwd() + \"/espectrogramas.npz\")\n",
    "S = f['spec']\n",
    "mfcc = f['mfcc']\n",
    "mel = f['mel']\n",
    "chroma = f['chroma']\n",
    "y = f['target']\n",
    "\n",
    "# Split train-test data\n",
    "S_train, S_test, mfcc_train, mfcc_test, mel_train, mel_test, chroma_train, chroma_test, y_train, y_test = train_test_split(S, mfcc, mel, chroma, y, test_size=0.2)\n"
   ]
  },
  {
   "cell_type": "code",
   "execution_count": 4,
   "metadata": {},
   "outputs": [],
   "source": [
    "# Spectrogram\n",
    "maximum1 = np.amax(S_train)\n",
    "S_train = S_train / maximum1\n",
    "S_test = S_test / maximum1\n",
    "\n",
    "# Adiciona uma dimensão extra para representar os canais\n",
    "S_train = np.expand_dims(S_train, axis=-1)\n",
    "S_test = np.expand_dims(S_test, axis=-1)\n",
    "\n",
    "# Converte para o tipo de dados float32\n",
    "S_train = S_train.astype(np.float32)\n",
    "S_test = S_test.astype(np.float32)\n"
   ]
  },
  {
   "cell_type": "code",
   "execution_count": 5,
   "metadata": {},
   "outputs": [
    {
     "name": "stdout",
     "output_type": "stream",
     "text": [
      "Shape de mfcc_train: (4, 120, 600, 1)\n",
      "Shape de mfcc_test: (1, 120, 600, 1)\n"
     ]
    }
   ],
   "source": [
    "newtrain_mfcc = np.empty((mfcc_train.shape[0], 120, 600))\n",
    "newtest_mfcc = np.empty((mfcc_test.shape[0], 120, 600))\n",
    "\n",
    "for i in range(mfcc_train.shape[0]):\n",
    "    curr = mfcc_train[i]\n",
    "    curr = np.array(curr)  # Converta para uma matriz numpy\n",
    "    curr = curr.astype(np.float32)\n",
    "    curr = cv2.resize(curr, (600, 120))\n",
    "    newtrain_mfcc[i] = curr\n",
    "\n",
    "mfcc_train = newtrain_mfcc\n",
    "\n",
    "for i in range(mfcc_test.shape[0]):\n",
    "    curr = mfcc_test[i]\n",
    "    curr = np.array(curr)  # Converta para uma matriz numpy\n",
    "    curr = curr.astype(np.float32)\n",
    "    curr = cv2.resize(curr, (600, 120))\n",
    "    newtest_mfcc[i] = curr\n",
    "\n",
    "mfcc_test = newtest_mfcc\n",
    "\n",
    "mfcc_train = mfcc_train.astype(np.float32)\n",
    "mfcc_test = mfcc_test.astype(np.float32)\n",
    "\n",
    "N, row, col = mfcc_train.shape\n",
    "mfcc_train = mfcc_train.reshape((N, row, col, 1))\n",
    "\n",
    "N, row, col = mfcc_test.shape\n",
    "mfcc_test = mfcc_test.reshape((N, row, col, 1))\n",
    "\n",
    "mean_data = np.mean(mfcc_train)\n",
    "std_data = np.std(mfcc_train)\n",
    "\n",
    "mfcc_train = (mfcc_train - mean_data)/ std_data\n",
    "mfcc_test = (mfcc_test - mean_data)/ std_data\n",
    "\n",
    "print(\"Shape de mfcc_train:\", mfcc_train.shape)\n",
    "print(\"Shape de mfcc_test:\", mfcc_test.shape)"
   ]
  },
  {
   "cell_type": "code",
   "execution_count": 6,
   "metadata": {},
   "outputs": [
    {
     "name": "stdout",
     "output_type": "stream",
     "text": [
      "Shape de mel_train: (4, 120, 600, 1)\n",
      "Shape de mel_test: (1, 120, 600, 1)\n"
     ]
    }
   ],
   "source": [
    "# Define a altura e a largura desejadas\n",
    "altura = 120\n",
    "largura = 600\n",
    "\n",
    "# Adiciona uma dimensão extra para representar os canais\n",
    "mel_train = np.expand_dims(mel_train, axis=-1)\n",
    "mel_test = np.expand_dims(mel_test, axis=-1)\n",
    "\n",
    "# Redimensiona para a altura e largura desejadas\n",
    "mel_train = np.resize(mel_train, (mel_train.shape[0], altura, largura, 1))\n",
    "mel_test = np.resize(mel_test, (mel_test.shape[0], altura, largura, 1))\n",
    "\n",
    "# Converte para o tipo de dados float32\n",
    "mel_train = mel_train.astype(np.float32)\n",
    "mel_test = mel_test.astype(np.float32)\n",
    "\n",
    "# Obtendo o formato das matrizes mel_train e mel_test\n",
    "print(\"Shape de mel_train:\", mel_train.shape)\n",
    "print(\"Shape de mel_test:\", mel_test.shape)"
   ]
  },
  {
   "cell_type": "code",
   "execution_count": 7,
   "metadata": {},
   "outputs": [
    {
     "name": "stdout",
     "output_type": "stream",
     "text": [
      "Shape final de mel_train: (4, 120, 600, 1)\n",
      "Shape final de mel_test: (1, 120, 600, 1)\n"
     ]
    }
   ],
   "source": [
    "# Mel-Spectrogram\n",
    "\n",
    "maximum = np.amax(mel_train)\n",
    "mel_train = mel_train / maximum\n",
    "mel_test = mel_test / maximum\n",
    "\n",
    "# Garantindo que as dimensões estão corretas\n",
    "N, height, width, channels = mel_train.shape\n",
    "mel_train = mel_train.reshape((N, height, width, channels))\n",
    "\n",
    "N, height, width, channels = mel_test.shape\n",
    "mel_test = mel_test.reshape((N, height, width, channels))\n",
    "\n",
    "# Verificando as formas finais\n",
    "print(\"Shape final de mel_train:\", mel_train.shape)\n",
    "print(\"Shape final de mel_test:\", mel_test.shape)"
   ]
  },
  {
   "cell_type": "code",
   "execution_count": 8,
   "metadata": {},
   "outputs": [],
   "source": [
    "# Save Spectrogram train-test\n",
    "np.savez_compressed(os.getcwd()+\"/new_spectrogram_train_test.npz\", S_train= S_train, S_test= S_test, y_train = y_train, y_test= y_test)\n",
    "\n",
    "# Save MFCC train-test\n",
    "np.savez_compressed(os.getcwd()+\"/new_mfcc_train_test.npz\", mfcc_train= mfcc_train, mfcc_test= mfcc_test, y_train = y_train, y_test= y_test)\n",
    "\n",
    "# Save Mel-Spectrogram train-test\n",
    "np.savez_compressed(os.getcwd()+\"/new_mel_train_test.npz\", mel_train= mel_train, mel_test= mel_test, y_train = y_train, y_test= y_test)\n"
   ]
  }
 ],
 "metadata": {
  "kernelspec": {
   "display_name": "Python 3",
   "language": "python",
   "name": "python3"
  },
  "language_info": {
   "codemirror_mode": {
    "name": "ipython",
    "version": 3
   },
   "file_extension": ".py",
   "mimetype": "text/x-python",
   "name": "python",
   "nbconvert_exporter": "python",
   "pygments_lexer": "ipython3",
   "version": "3.10.12"
  }
 },
 "nbformat": 4,
 "nbformat_minor": 2
}
